{
 "cells": [
  {
   "cell_type": "markdown",
   "metadata": {},
   "source": [
    "Notebook demonstrating logistic regression on two different datasets and the use of regularization"
   ]
  },
  {
   "cell_type": "code",
   "execution_count": 1,
   "metadata": {
    "collapsed": true
   },
   "outputs": [],
   "source": [
    "import numpy as np\n",
    "import matplotlib as mpl\n",
    "import matplotlib.pyplot as plt\n",
    "from scipy import special, optimize"
   ]
  },
  {
   "cell_type": "code",
   "execution_count": 2,
   "metadata": {
    "collapsed": true
   },
   "outputs": [],
   "source": [
    "#load data for both parts of exercise\n",
    "data1 = np.loadtxt('/Users/newowner/Desktop/DataScienceNotes/machine-learning-ex2/ex2/ex2data1.txt', delimiter=',')\n",
    "data2 = np.loadtxt('/Users/newowner/Desktop/DataScienceNotes/machine-learning-ex2/ex2/ex2data2.txt', delimiter=',')"
   ]
  },
  {
   "cell_type": "code",
   "execution_count": 3,
   "metadata": {},
   "outputs": [
    {
     "data": {
      "image/png": "[encoded data removed]",
      "text/plain": [
       "<matplotlib.figure.Figure at 0x11001e190>"
      ]
     },
     "metadata": {},
     "output_type": "display_data"
    }
   ],
   "source": [
    "# visualize first data set\n",
    "\n",
    "fig = plt.figure(figsize = (10,8))\n",
    "\n",
    "pos = np.where(data1[:,2]==1)\n",
    "neg = np.where(data1[:,2]==0)\n",
    "\n",
    "plt.scatter(data1[pos, 0], data1[pos, 1], marker = '+', color = 'm', label='Admitted')\n",
    "plt.scatter(data1[neg, 0], data1[neg, 1], marker = 'v', color='k', label ='Not Admitted')\n",
    "plt.xlabel('Test 1 Score', fontsize = 20)\n",
    "plt.ylabel('Test 2 Score', fontsize = 20)\n",
    "plt.tick_params(labelsize=15)\n",
    "plt.legend(fontsize=15)\n",
    "plt.show()"
   ]
  },
  {
   "cell_type": "markdown",
   "metadata": {},
   "source": [
    "For logistic regression our hypothesis takes the form $h_\\theta(x) = g(\\theta^Tx)$ where $g(z) = \\frac{1}{1+e^{-z}}$ is the sigmoid function. Here we will practice writing our own sigmoid function. We can produce the same results with the SciPy by using scipy.special.expit(x). "
   ]
  },
  {
   "cell_type": "code",
   "execution_count": 4,
   "metadata": {
    "collapsed": true
   },
   "outputs": [],
   "source": [
    "def sigmoid(x):\n",
    "    return 1/(1+np.exp(-x))"
   ]
  },
  {
   "cell_type": "markdown",
   "metadata": {},
   "source": [
    "The cost function for logistic regression is: \n",
    "\n",
    "\\begin{equation}\n",
    "    J(\\theta) = \\frac{-1}{m} \\sum_{i=1}^m [y^{(i)}log(h_\\theta(x^{(i)})) + (1-y^{(i)})log(1-h_\\theta(x^{(i)})]\n",
    "\\end{equation}\n",
    "\n",
    "And the gradient is:\n",
    "\n",
    "\\begin{equation}\n",
    "    \\frac{\\partial{J(\\theta)}}{\\partial{\\theta_j}} = \\frac{1}{m} \\sum_{i=1}^{m} (h_\\theta(x^{(i)}) - y^{(i)}) x_j^{(i)}\n",
    "\\end{equation}\n",
    "\n",
    "This has the same form as the gradient for linear regression, but the hypothesis functions are different. "
   ]
  },
  {
   "cell_type": "code",
   "execution_count": 5,
   "metadata": {
    "collapsed": true
   },
   "outputs": [],
   "source": [
    "def costFunction(theta, x, y):\n",
    "    theta = theta.reshape(len(theta), 1)\n",
    "    m = len(y)\n",
    "    h = sigmoid(np.matmul(x, theta))\n",
    "    J = (-1.0/m)*np.sum(np.matmul(np.transpose(np.log(h)), y) + np.matmul(np.transpose(np.log(1-h)), (1-y)))\n",
    "    \n",
    "    grad = (1.0/m) * np.matmul(x.T, (h-y))\n",
    "    \n",
    "    return J, grad.reshape(len(grad),)"
   ]
  },
  {
   "cell_type": "code",
   "execution_count": 6,
   "metadata": {
    "collapsed": true
   },
   "outputs": [],
   "source": [
    "# set up data:\n",
    "\n",
    "x = data1[:, :2]\n",
    "x = np.column_stack((np.ones(len(x)), x))\n",
    "y = data1[:, 2].reshape((len(x), 1))"
   ]
  },
  {
   "cell_type": "code",
   "execution_count": 7,
   "metadata": {},
   "outputs": [
    {
     "name": "stdout",
     "output_type": "stream",
     "text": [
      "When initial theta is \n",
      "[[ 0.]\n",
      " [ 0.]\n",
      " [ 0.]] \n",
      "the cost function is 0.69314718056 and the gradient is \n",
      "[ -0.1        -12.00921659 -11.26284221].\n",
      "\n",
      "When initial theta is \n",
      "[[-24. ]\n",
      " [  0.2]\n",
      " [  0.2]] \n",
      "the cost function is 0.218330193827 and the gradient is \n",
      "[ 0.04290299  2.56623412  2.64679737].\n"
     ]
    }
   ],
   "source": [
    "# test cost function with two different initial thetas \n",
    "theta = np.zeros((3, 1))\n",
    "J, grad= costFunction(theta, x, y)\n",
    "print('When initial theta is \\n{} \\nthe cost function is {} and the gradient is \\n{}.\\n').format(theta, J, grad)\n",
    "\n",
    "theta = np.array([[-24], [0.2], [0.2]])\n",
    "J, grad= costFunction(theta, x, y)\n",
    "print('When initial theta is \\n{} \\nthe cost function is {} and the gradient is \\n{}.').format(theta, J, grad)"
   ]
  },
  {
   "cell_type": "markdown",
   "metadata": {},
   "source": [
    "When we ran linear regression we were able to use gradient descent to find the values of $\\theta$ that minimized the cost function. This time we will use a built-in SciPy function scipy.optmize.fmin_tnc, which minimizes a function using gradient information. This function can take in the cost function if it returns both J and the gradient. "
   ]
  },
  {
   "cell_type": "code",
   "execution_count": 8,
   "metadata": {},
   "outputs": [
    {
     "name": "stdout",
     "output_type": "stream",
     "text": [
      "Cost found using SciPy optimization is 0.203497701589 with theta as [-25.16131866   0.20623159   0.20147149]\n"
     ]
    }
   ],
   "source": [
    "import scipy.optimize as opt\n",
    "theta = np.zeros((3,1))\n",
    "result = opt.fmin_tnc(func=costFunction, x0=theta, args=(x,y))\n",
    "J, grad = costFunction(result[0], x, y)\n",
    "print('Cost found using SciPy optimization is {} with theta as {}'.format(J, result[0]))"
   ]
  },
  {
   "cell_type": "code",
   "execution_count": 9,
   "metadata": {},
   "outputs": [
    {
     "data": {
      "text/plain": [
       "-25.161318664451485"
      ]
     },
     "execution_count": 9,
     "metadata": {},
     "output_type": "execute_result"
    }
   ],
   "source": [
    "result[0][0]"
   ]
  },
  {
   "cell_type": "markdown",
   "metadata": {},
   "source": [
    "Now using our values of theta we can plot the decision boundary on our dataset. Recall that our hypothesis is $h_\\theta(x) = g(\\theta^T x)$ and the boundary line will occur when $h_\\theta(x) = 0.5$, or when $\\theta^T x = 0$. \n",
    "\n",
    "So we can take $\\theta^T x = \\theta_0 + \\theta_1 x_1 + \\theta_2 x_2$ and rearrange to solve for $x_2 = -(\\theta_0 + \\theta_1 x_1)/\\theta_2$. \n",
    "\n",
    "To create our boundary line we'll take the end points of the boundary line. "
   ]
  },
  {
   "cell_type": "code",
   "execution_count": 10,
   "metadata": {
    "collapsed": true
   },
   "outputs": [],
   "source": [
    "xmin = np.min(x[:,1])\n",
    "xmax = np.max(x[:,1])\n",
    "ymin = (-1/result[0][2]) * (result[0][1]*xmin + result[0][0])\n",
    "ymax = (-1/result[0][2]) * (result[0][1]*xmax + result[0][0])"
   ]
  },
  {
   "cell_type": "code",
   "execution_count": 11,
   "metadata": {},
   "outputs": [
    {
     "data": {
      "image/png": "[encoded data removed]",
      "text/plain": [
       "<matplotlib.figure.Figure at 0x1100ee610>"
      ]
     },
     "metadata": {},
     "output_type": "display_data"
    }
   ],
   "source": [
    "figure = plt.figure(figsize=(10,8))\n",
    "\n",
    "pos = np.where(data1[:,2]==1)\n",
    "neg = np.where(data1[:,2]==0)\n",
    "\n",
    "plt.scatter(data1[pos, 0], data1[pos, 1], marker = '+', color = 'm', label='Admitted')\n",
    "plt.scatter(data1[neg, 0], data1[neg, 1], marker = 'v', color='k', label ='Not Admitted')\n",
    "plt.plot((xmin, xmax), (ymin, ymax))\n",
    "plt.plot()\n",
    "plt.xlabel('Test 1 Score', fontsize = 20)\n",
    "plt.ylabel('Test 2 Score', fontsize = 20)\n",
    "plt.tick_params(labelsize=15)\n",
    "plt.legend(fontsize=15)\n",
    "plt.show()"
   ]
  },
  {
   "cell_type": "markdown",
   "metadata": {},
   "source": [
    "Now that we have our theta values we can use them to predict the probability that a student is admitted given their test scores. "
   ]
  },
  {
   "cell_type": "code",
   "execution_count": 12,
   "metadata": {},
   "outputs": [
    {
     "name": "stdout",
     "output_type": "stream",
     "text": [
      "For a student with scores 45 and 85 we predict an 77.6290623948% chance of being accepted\n"
     ]
    }
   ],
   "source": [
    "predict = sigmoid(np.dot(np.array([1, 45, 85]), result[0]))\n",
    "print('For a student with scores 45 and 85 we predict an {}% chance of being accepted').format(predict*100)"
   ]
  },
  {
   "cell_type": "markdown",
   "metadata": {},
   "source": [
    "We can also compute the accuracy of our training set using our learned theta."
   ]
  },
  {
   "cell_type": "code",
   "execution_count": 13,
   "metadata": {
    "collapsed": true
   },
   "outputs": [],
   "source": [
    "def predict(theta, x):\n",
    "    m = x.shape[0]\n",
    "    p = np.zeros((m, 1))\n",
    "    predict = sigmoid(np.matmul(x,theta))\n",
    "    p = predict >= 0.5\n",
    "    return map(int, p)"
   ]
  },
  {
   "cell_type": "code",
   "execution_count": 14,
   "metadata": {},
   "outputs": [
    {
     "name": "stdout",
     "output_type": "stream",
     "text": [
      "Train accuracy is 89.0\n"
     ]
    }
   ],
   "source": [
    "predict_val = np.array(predict(result[0], x))\n",
    "how_accurate = map(int, [predict_val[i]==y[i] for i in range(len(y))])\n",
    "accuracy = np.mean(how_accurate)*100\n",
    "\n",
    "print('Train accuracy is {}'.format(accuracy))"
   ]
  },
  {
   "cell_type": "markdown",
   "metadata": {},
   "source": [
    "In the second part of the exercise we'll use regularized logistic regression with a new data set. "
   ]
  },
  {
   "cell_type": "code",
   "execution_count": 15,
   "metadata": {},
   "outputs": [
    {
     "data": {
      "image/png": "[encoded data removed]",
      "text/plain": [
       "<matplotlib.figure.Figure at 0x1135d8590>"
      ]
     },
     "metadata": {},
     "output_type": "display_data"
    }
   ],
   "source": [
    "# visualize the second data set\n",
    "\n",
    "fig = plt.figure(figsize = (10, 8))\n",
    "\n",
    "pos = np.where(y==1)\n",
    "neg = np.where(y==0)\n",
    "\n",
    "plt.scatter(data2[pos, 0], data2[pos, 1], marker = '+', color = 'm', label='Accepted')\n",
    "plt.scatter(data2[neg, 0], data2[neg, 1], marker = 'v', color='k', label ='Rejected')\n",
    "plt.xlabel('Microchip Test 1', fontsize = 20)\n",
    "plt.ylabel('Microchip Test 2', fontsize = 20)\n",
    "plt.xlim(-1, 1.5)\n",
    "plt.ylim(-0.8, 1.2)\n",
    "plt.tick_params(labelsize=15)\n",
    "plt.legend(fontsize=15)\n",
    "plt.show()"
   ]
  },
  {
   "cell_type": "code",
   "execution_count": 16,
   "metadata": {
    "collapsed": true
   },
   "outputs": [],
   "source": [
    "x = data2[:,:2]\n",
    "y = data2[:,2]"
   ]
  },
  {
   "cell_type": "markdown",
   "metadata": {},
   "source": [
    "It is clear from looking at a plot of the data that the accepted and rejected points cannot be separated by a straight line. One way to create a more complex boundary line is to add more features to our hypothesis. Instead of taking more data to come up with more features we can just combine different powers of the features we already have. This process is called feature mapping. \n",
    "\n",
    "scikit Learn has a built-in function that will perform the mapping for us. "
   ]
  },
  {
   "cell_type": "code",
   "execution_count": 17,
   "metadata": {
    "collapsed": true
   },
   "outputs": [],
   "source": [
    "from sklearn.preprocessing import PolynomialFeatures\n",
    "\n",
    "poly = PolynomialFeatures(6)\n",
    "x_new = poly.fit_transform(x)"
   ]
  },
  {
   "cell_type": "markdown",
   "metadata": {},
   "source": [
    "In this case we have created a new 28-dimensional vector made up of different powers of the features $x_1$ and $x_2$. Each column in this vector is a combination of the features up to the sixth power, so $[1, x_1, x_2, x_1^2, x_1x_2, x_2^2, ..., x_2^6]$. \n",
    "\n",
    "One problem of adding more features is that your model can become prone to overfitting. To combat this we will add regularization to our cost function and gradient. "
   ]
  },
  {
   "cell_type": "markdown",
   "metadata": {},
   "source": [
    "With regularization the cost function becomes:\n",
    "\n",
    "\\begin{equation}\n",
    "    J(\\theta) = \\frac{-1}{m} \\sum_{i=1}^m [y^{(i)}log(h_\\theta(x^{(i)})) + (1-y^{(i)})log(1-h_\\theta(x^{(i)})] + \\frac{\\lambda}{2m} \\sum_{j=1}^{n} \\theta_j^2\n",
    "\\end{equation}\n",
    "\n",
    "Note that the $\\theta_0$ paramter is not used in the regularization term. \n",
    "\n",
    "The gradient becomes:\n",
    "\\begin{equation}\n",
    "    \\frac{\\partial{J(\\theta)}}{\\partial{\\theta_0}} = \\frac{1}{m} \\sum_{i=1}^{m} (h_\\theta(x^{(i)}) - y^{(i)}) x_j^{(i)}, j=0\n",
    "\\end{equation}\n",
    "\n",
    "\\begin{equation}\n",
    "    \\frac{\\partial{J(\\theta)}}{\\partial{\\theta_j}} = \\frac{1}{m} \\sum_{i=1}^{m} (h_\\theta(x^{(i)}) - y^{(i)}) x_j^{(i)} + \\frac{\\lambda}{m}\\theta_j, j\\geq 1\n",
    "\\end{equation}"
   ]
  },
  {
   "cell_type": "code",
   "execution_count": 18,
   "metadata": {
    "collapsed": true
   },
   "outputs": [],
   "source": [
    "def costFunctionReg(theta, x, y, lam):\n",
    "    m = len(y)\n",
    "    h = sigmoid(np.matmul(x, theta))\n",
    "    J_orig = (-1.0/m)*np.sum(np.matmul(np.transpose(np.log(h)), y) + np.matmul(np.transpose(np.log(1-h)), (1-y)))\n",
    "    theta[0] = 0\n",
    "    reg = (float(lam)/(2*m)) * np.dot(theta.T, theta)\n",
    "    J = J_orig + reg\n",
    "    \n",
    "    grad_orig = (1.0/m) * np.matmul(x.T, (h-y))\n",
    "    grad = grad_orig + (float(lam)/m)*theta\n",
    "    \n",
    "    return J, grad"
   ]
  },
  {
   "cell_type": "code",
   "execution_count": 19,
   "metadata": {},
   "outputs": [
    {
     "name": "stdout",
     "output_type": "stream",
     "text": [
      "Cost at initial theta (zeros): 0.69314718056\n",
      "Gradient (first five values only): [  8.47457627e-03   1.87880932e-02   7.77711864e-05   5.03446395e-02\n",
      "   1.15013308e-02]\n",
      "\n",
      "Cost when theta is ones: 3.16450933162\n",
      "Gradient (first five values only): [ 0.34604507  0.16135192  0.19479576  0.22686278  0.09218568]\n",
      "\n"
     ]
    }
   ],
   "source": [
    "theta = np.zeros(28)\n",
    "J, grad = costFunctionReg(theta, x_new, y, 1)\n",
    "print('Cost at initial theta (zeros): {}\\nGradient (first five values only): {}\\n'.format(J, grad[:5], 2))\n",
    "\n",
    "theta = np.ones(28)\n",
    "J, grad = costFunctionReg(theta, x_new, y, 10)\n",
    "print('Cost when theta is ones: {}\\nGradient (first five values only): {}\\n'.format(J, grad[:5], 2))"
   ]
  },
  {
   "cell_type": "markdown",
   "metadata": {
    "collapsed": true
   },
   "source": [
    "Now we can use our regularized functions to find the optimal theta values. We will do this again with the built-in SciPy optimize function. "
   ]
  },
  {
   "cell_type": "code",
   "execution_count": 20,
   "metadata": {},
   "outputs": [
    {
     "name": "stdout",
     "output_type": "stream",
     "text": [
      "Cost found using SciPy optimization is 0.627293175378 with theta [ 0.         -0.00602678  0.39178174 -0.45600961 -0.16345793 -0.14868218\n",
      " -0.08286217 -0.05165688 -0.07950305 -0.03803831 -0.39959042 -0.02030655\n",
      " -0.12467638 -0.04280454 -0.27166961 -0.1471552  -0.04113254 -0.0263212\n",
      " -0.05234922 -0.05335967 -0.18084989 -0.3162826  -0.00485562 -0.0674712\n",
      " -0.00138271 -0.07169554 -0.01909383 -0.29410672]\n"
     ]
    }
   ],
   "source": [
    "theta = np.zeros(28)\n",
    "result = opt.fmin_tnc(func=costFunctionReg, x0=theta, args=(x_new,y,1))\n",
    "J, grad = costFunctionReg(result[0], x_new, y, 1)\n",
    "print('Cost found using SciPy optimization is {} with theta {}'.format(J, result[0]))"
   ]
  },
  {
   "cell_type": "code",
   "execution_count": 21,
   "metadata": {},
   "outputs": [
    {
     "name": "stdout",
     "output_type": "stream",
     "text": [
      "Train accuracy is 66.1016949153\n"
     ]
    }
   ],
   "source": [
    "predict_val = np.array(predict(result[0], x_new))\n",
    "how_accurate = map(int, [predict_val[i]==y[i] for i in range(len(y))])\n",
    "accuracy = np.mean(how_accurate)*100\n",
    "\n",
    "print('Train accuracy is {}'.format(accuracy))"
   ]
  },
  {
   "cell_type": "code",
   "execution_count": null,
   "metadata": {
    "collapsed": true
   },
   "outputs": [],
   "source": []
  }
 ],
 "metadata": {
  "kernelspec": {
   "display_name": "Python 2",
   "language": "python",
   "name": "python2"
  },
  "language_info": {
   "codemirror_mode": {
    "name": "ipython",
    "version": 2
   },
   "file_extension": ".py",
   "mimetype": "text/x-python",
   "name": "python",
   "nbconvert_exporter": "python",
   "pygments_lexer": "ipython2",
   "version": "2.7.13"
  }
 },
 "nbformat": 4,
 "nbformat_minor": 2
}
